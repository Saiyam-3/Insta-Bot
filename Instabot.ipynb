{
 "cells": [
  {
   "cell_type": "code",
   "execution_count": 3,
   "metadata": {},
   "outputs": [],
   "source": [
    "from time import sleep\n",
    "from selenium import webdriver"
   ]
  },
  {
   "cell_type": "code",
   "execution_count": 5,
   "metadata": {
    "scrolled": true
   },
   "outputs": [],
   "source": [
    "browser= webdriver.Firefox(executable_path=r'C:\\webdriver\\geckodriver.exe')\n",
    "browser.implicitly_wait(5)\n",
    "browser.get('https://www.instagram.com/')\n",
    "username_input = browser.find_element_by_css_selector(\"input[name='username']\")\n",
    "password_input = browser.find_element_by_css_selector(\"input[name='password']\")\n",
    "username_input.send_keys(\"saiyam_3\")\n",
    "password_input.send_keys(\"Siddh2007\")\n",
    "login_button = browser.find_element_by_xpath(\"//button[@type='submit']\")\n",
    "login_button.click()\n",
    "sleep(50)\n",
    "browser.close()"
   ]
  },
  {
   "cell_type": "code",
   "execution_count": 6,
   "metadata": {},
   "outputs": [],
   "source": [
    "class LoginPage:\n",
    "    def __init__(self, browser):\n",
    "        self.browser = browser\n",
    "    def login(self, username, password):\n",
    "        username_input = self.browser.find_element_by_css_selector(\"input[name='username']\")\n",
    "        password_input = self.browser.find_element_by_css_selector(\"input[name='password']\")\n",
    "        username_input.send_keys(\"saiyam_3\")\n",
    "        password_input.send_keys(\"Siddh2007\")\n",
    "        login_button = browser.find_element_by_xpath(\"//button[@type='submit']\")\n",
    "        login_button.click()\n",
    "        sleep(50)\n",
    "class HomePage:\n",
    "    def __init__(self, browser):\n",
    "        self.browser = browser\n",
    "        self.browser.get('https://www.instagram.com/')\n",
    "\n",
    "    def go_to_login_page(self):\n",
    "        self.browser.find_element_by_xpath(\"//a[text()='Log in']\").click()\n",
    "        sleep(2)\n",
    "        return LoginPage(self.browser)"
   ]
  },
  {
   "cell_type": "code",
   "execution_count": 7,
   "metadata": {},
   "outputs": [],
   "source": [
    "def test_login_page(browser):\n",
    "    home_page = HomePage(browser)\n",
    "    login_page = home_page.go_to_login_page()\n",
    "    login_page.login(\"saiyam_3\", \"Siddh2007\")"
   ]
  },
  {
   "cell_type": "code",
   "execution_count": 1,
   "metadata": {},
   "outputs": [],
   "source": [
    "from instapy import InstaPy"
   ]
  },
  {
   "cell_type": "code",
   "execution_count": 2,
   "metadata": {},
   "outputs": [
    {
     "name": "stdout",
     "output_type": "stream",
     "text": [
      "InstaPy Version: 0.6.12\n",
      " ._.  ._.  ._.  ._.  ._.  ._.  ._.  ._.  ._. \n",
      "Workspace in use: \"C:/Users/saiya/InstaPy\"\n"
     ]
    },
    {
     "name": "stderr",
     "output_type": "stream",
     "text": [
      "INFO [2020-11-18 12:23:04] [saiyam_3]  Session started!\n",
      "INFO [2020-11-18 12:23:04] [saiyam_3]  -- Connection Checklist [1/2] (Internet Connection Status)\n"
     ]
    },
    {
     "name": "stdout",
     "output_type": "stream",
     "text": [
      "OOOOOOOOOOOOOOOOOOOOOOOOOOOOOOOOOOOOOOOOOOOOOOOOOOOOOO\n",
      "oooooooooooooooooooooooooooooooooooooooooooooooooooooo\n"
     ]
    },
    {
     "name": "stderr",
     "output_type": "stream",
     "text": [
      "INFO [2020-11-18 12:23:07] [saiyam_3]  - Internet Connection Status: ok\n",
      "INFO [2020-11-18 12:23:07] [saiyam_3]  - Current IP is \"106.213.166.216\" and it's from \"India/IN\"\n",
      "INFO [2020-11-18 12:23:07] [saiyam_3]  -- Connection Checklist [2/2] (Hide Selenium Extension)\n",
      "INFO [2020-11-18 12:23:07] [saiyam_3]  - window.navigator.webdriver response: None\n",
      "INFO [2020-11-18 12:23:07] [saiyam_3]  - Hide Selenium Extension: ok\n",
      "INFO [2020-11-18 12:23:28] [saiyam_3]  Logged in successfully!\n",
      "INFO [2020-11-18 12:23:28] [saiyam_3]  Saving account progress...\n"
     ]
    },
    {
     "name": "stdout",
     "output_type": "stream",
     "text": [
      "..............................................................\n",
      "''''''''''''''''''''''''''''''''''''''''''''''''''''''''''''''\n"
     ]
    },
    {
     "name": "stderr",
     "output_type": "stream",
     "text": [
      "INFO [2020-11-18 12:23:35] [saiyam_3]  -- Connection Checklist [1/2] (Internet Connection Status)\n",
      "INFO [2020-11-18 12:23:35] [saiyam_3]  - Internet Connection Status: ok\n",
      "INFO [2020-11-18 12:23:35] [saiyam_3]  - Current IP is \"106.213.166.216\" and it's from \"India/IN\"\n",
      "INFO [2020-11-18 12:23:35] [saiyam_3]  -- Connection Checklist [2/2] (Hide Selenium Extension)\n",
      "INFO [2020-11-18 12:23:35] [saiyam_3]  - window.navigator.webdriver response: None\n",
      "INFO [2020-11-18 12:23:35] [saiyam_3]  - Hide Selenium Extension: ok\n",
      "INFO [2020-11-18 12:23:55] [saiyam_3]  Logged in successfully!\n",
      "INFO [2020-11-18 12:23:55] [saiyam_3]  Saving account progress...\n"
     ]
    },
    {
     "name": "stdout",
     "output_type": "stream",
     "text": [
      "..............................................................\n",
      "''''''''''''''''''''''''''''''''''''''''''''''''''''''''''''''\n"
     ]
    },
    {
     "name": "stderr",
     "output_type": "stream",
     "text": [
      "INFO [2020-11-18 12:24:00] [saiyam_3]  Tag [1/2]\n",
      "INFO [2020-11-18 12:24:00] [saiyam_3]  --> b'bmw'\n",
      "INFO [2020-11-18 12:24:14] [saiyam_3]  desired amount: 14  |  top posts [disabled]: 9  |  possible posts: 52855829\n",
      "INFO [2020-11-18 12:24:22] [saiyam_3]  Like# [1/14]\n",
      "INFO [2020-11-18 12:24:22] [saiyam_3]  https://www.instagram.com/p/CHuQGAinjSw/\n",
      "INFO [2020-11-18 12:24:26] [saiyam_3]  Image from: b'landlord.tadka'\n",
      "INFO [2020-11-18 12:24:26] [saiyam_3]  Link: b'https://www.instagram.com/p/CHuQGAinjSw/'\n",
      "INFO [2020-11-18 12:24:26] [saiyam_3]  Description: b\"Follow_Us - \\xe2\\x9c\\x85\\xf0\\x9f\\x9a\\xa9(@landlord.tadka\\xf0\\x9f\\x9a\\xa9\\xe2\\x9c\\x94\\n.\\nKeep Support Our Page : (@landlord.tadka )\\xe2\\x9c\\x85\\xe2\\x9c\\x94\\nand (DM HD Stylish\\xf0\\x9f\\x93\\xa5 Pic & Vid)\\xf0\\x9f\\x9a\\xa9\\xf0\\x9f\\x9a\\xa9 .\\nFOLLOW FOR MORE UPDATE'S:\\xe2\\x9c\\x85\\xe2\\x9c\\x94(landlord.tadka )\\xe2\\x9c\\x85\\xe2\\x9c\\x94\\n.\\n.\\n #bmw #luxurycars #4x4 #offroad #jeepwrangler #alloywheel #tharntypetheseries #cars #gujjar #xuv #fortunervrz #ford #fordendeavour #swift #fortuner #desi #ghaziabad #up #haryana #alloywheel #snow #thar #scorpiolovers #scorpio\\xf0\\x9f\\x9a\\x98 #scorpio #mahindrascorpio #followforfollowback #likeforlikes #comment #like4likes #follow4followback\"\n",
      "INFO [2020-11-18 12:25:04] [saiyam_3]  --> Found 'Play' button for a video, traying to like it\n",
      "INFO [2020-11-18 12:25:07] [saiyam_3]  --> Video liked!\n",
      "INFO [2020-11-18 12:25:14] [saiyam_3]  --> Not commented\n",
      "INFO [2020-11-18 12:25:15] [saiyam_3]  --> Not following\n",
      "INFO [2020-11-18 12:25:16] [saiyam_3]  Like# [2/14]\n",
      "INFO [2020-11-18 12:25:16] [saiyam_3]  https://www.instagram.com/p/CHuQa7Ylf59/\n",
      "INFO [2020-11-18 12:25:23] [saiyam_3]  Image from: b'scrapyardelectric'\n",
      "INFO [2020-11-18 12:25:23] [saiyam_3]  Link: b'https://www.instagram.com/p/CHuQa7Ylf59/'\n",
      "INFO [2020-11-18 12:25:23] [saiyam_3]  Description: b\"Like performing a caesarian, except for no blood, no finesse, and no regard for the patient's welfare. Fuck you, German efficiency.\\n@ _ @\\n#bmw #e93 #n54 #335i #335iconvertible #twinturbo #whymustyoubesohard #mechanic #diy #boosted #turbo\"\n"
     ]
    },
    {
     "ename": "WebDriverException",
     "evalue": "Message: Failed to decode response from marionette\n",
     "output_type": "error",
     "traceback": [
      "\u001b[1;31m---------------------------------------------------------------------------\u001b[0m",
      "\u001b[1;31mWebDriverException\u001b[0m                        Traceback (most recent call last)",
      "\u001b[1;32m<ipython-input-2-b913ead2cb3f>\u001b[0m in \u001b[0;36m<module>\u001b[1;34m\u001b[0m\n\u001b[0;32m      1\u001b[0m \u001b[0msession\u001b[0m\u001b[1;33m=\u001b[0m\u001b[0mInstaPy\u001b[0m\u001b[1;33m(\u001b[0m\u001b[0musername\u001b[0m\u001b[1;33m=\u001b[0m\u001b[1;34m\"saiyam_3\"\u001b[0m\u001b[1;33m,\u001b[0m \u001b[0mpassword\u001b[0m\u001b[1;33m=\u001b[0m\u001b[1;34m\"Siddh2007\"\u001b[0m\u001b[1;33m)\u001b[0m\u001b[1;33m.\u001b[0m\u001b[0mlogin\u001b[0m\u001b[1;33m(\u001b[0m\u001b[1;33m)\u001b[0m\u001b[1;33m\u001b[0m\u001b[1;33m\u001b[0m\u001b[0m\n\u001b[0;32m      2\u001b[0m \u001b[0msession\u001b[0m\u001b[1;33m.\u001b[0m\u001b[0mlogin\u001b[0m\u001b[1;33m(\u001b[0m\u001b[1;33m)\u001b[0m\u001b[1;33m\u001b[0m\u001b[1;33m\u001b[0m\u001b[0m\n\u001b[1;32m----> 3\u001b[1;33m \u001b[0msession\u001b[0m\u001b[1;33m.\u001b[0m\u001b[0mlike_by_tags\u001b[0m\u001b[1;33m(\u001b[0m\u001b[1;33m[\u001b[0m\u001b[1;34m\"bmw\"\u001b[0m\u001b[1;33m,\u001b[0m \u001b[1;34m\"mercedes\"\u001b[0m\u001b[1;33m]\u001b[0m\u001b[1;33m,\u001b[0m \u001b[0mamount\u001b[0m\u001b[1;33m=\u001b[0m\u001b[1;36m5\u001b[0m\u001b[1;33m)\u001b[0m\u001b[1;33m\u001b[0m\u001b[1;33m\u001b[0m\u001b[0m\n\u001b[0m",
      "\u001b[1;32m~\\Anaconda3\\lib\\site-packages\\instapy\\instapy.py\u001b[0m in \u001b[0;36mlike_by_tags\u001b[1;34m(self, tags, use_random_tags, amount, skip_top_posts, use_smart_hashtags, use_smart_location_hashtags, interact, randomize, media)\u001b[0m\n\u001b[0;32m   1949\u001b[0m                     \u001b[1;32mif\u001b[0m \u001b[1;32mnot\u001b[0m \u001b[0minappropriate\u001b[0m \u001b[1;32mand\u001b[0m \u001b[0mself\u001b[0m\u001b[1;33m.\u001b[0m\u001b[0mliking_approved\u001b[0m\u001b[1;33m:\u001b[0m\u001b[1;33m\u001b[0m\u001b[1;33m\u001b[0m\u001b[0m\n\u001b[0;32m   1950\u001b[0m                         \u001b[1;31m# validate user\u001b[0m\u001b[1;33m\u001b[0m\u001b[1;33m\u001b[0m\u001b[1;33m\u001b[0m\u001b[0m\n\u001b[1;32m-> 1951\u001b[1;33m                         \u001b[0mvalidation\u001b[0m\u001b[1;33m,\u001b[0m \u001b[0mdetails\u001b[0m \u001b[1;33m=\u001b[0m \u001b[0mself\u001b[0m\u001b[1;33m.\u001b[0m\u001b[0mvalidate_user_call\u001b[0m\u001b[1;33m(\u001b[0m\u001b[0muser_name\u001b[0m\u001b[1;33m)\u001b[0m\u001b[1;33m\u001b[0m\u001b[1;33m\u001b[0m\u001b[0m\n\u001b[0m\u001b[0;32m   1952\u001b[0m                         \u001b[1;32mif\u001b[0m \u001b[0mvalidation\u001b[0m \u001b[1;32mis\u001b[0m \u001b[1;32mnot\u001b[0m \u001b[1;32mTrue\u001b[0m\u001b[1;33m:\u001b[0m\u001b[1;33m\u001b[0m\u001b[1;33m\u001b[0m\u001b[0m\n\u001b[0;32m   1953\u001b[0m                             \u001b[0mself\u001b[0m\u001b[1;33m.\u001b[0m\u001b[0mlogger\u001b[0m\u001b[1;33m.\u001b[0m\u001b[0minfo\u001b[0m\u001b[1;33m(\u001b[0m\u001b[0mdetails\u001b[0m\u001b[1;33m)\u001b[0m\u001b[1;33m\u001b[0m\u001b[1;33m\u001b[0m\u001b[0m\n",
      "\u001b[1;32m~\\Anaconda3\\lib\\site-packages\\instapy\\instapy.py\u001b[0m in \u001b[0;36mvalidate_user_call\u001b[1;34m(self, user_name)\u001b[0m\n\u001b[0;32m   1339\u001b[0m             \u001b[0mself\u001b[0m\u001b[1;33m.\u001b[0m\u001b[0mmandatory_bio_keywords\u001b[0m\u001b[1;33m,\u001b[0m\u001b[1;33m\u001b[0m\u001b[1;33m\u001b[0m\u001b[0m\n\u001b[0;32m   1340\u001b[0m             \u001b[0mself\u001b[0m\u001b[1;33m.\u001b[0m\u001b[0mlogger\u001b[0m\u001b[1;33m,\u001b[0m\u001b[1;33m\u001b[0m\u001b[1;33m\u001b[0m\u001b[0m\n\u001b[1;32m-> 1341\u001b[1;33m             \u001b[0mself\u001b[0m\u001b[1;33m.\u001b[0m\u001b[0mlogfolder\u001b[0m\u001b[1;33m,\u001b[0m\u001b[1;33m\u001b[0m\u001b[1;33m\u001b[0m\u001b[0m\n\u001b[0m\u001b[0;32m   1342\u001b[0m         )\n\u001b[0;32m   1343\u001b[0m         \u001b[1;32mreturn\u001b[0m \u001b[0mvalidation\u001b[0m\u001b[1;33m,\u001b[0m \u001b[0mdetails\u001b[0m\u001b[1;33m\u001b[0m\u001b[1;33m\u001b[0m\u001b[0m\n",
      "\u001b[1;32m~\\Anaconda3\\lib\\site-packages\\instapy\\util.py\u001b[0m in \u001b[0;36mvalidate_username\u001b[1;34m(browser, username_or_link, own_username, ignore_users, blacklist, potency_ratio, delimit_by_numbers, max_followers, max_following, min_followers, min_following, min_posts, max_posts, skip_private, skip_private_percentage, skip_no_profile_pic, skip_no_profile_pic_percentage, skip_business, skip_non_business, skip_business_percentage, skip_business_categories, dont_skip_business_categories, skip_bio_keyword, mandatory_bio_keywords, logger, logfolder)\u001b[0m\n\u001b[0;32m    364\u001b[0m         \u001b[1;32mtry\u001b[0m\u001b[1;33m:\u001b[0m\u001b[1;33m\u001b[0m\u001b[1;33m\u001b[0m\u001b[0m\n\u001b[0;32m    365\u001b[0m             browser.find_element_by_xpath(\n\u001b[1;32m--> 366\u001b[1;33m                 \u001b[1;34m\"//*[contains(text(), 'This Account is Private')]\"\u001b[0m\u001b[1;33m\u001b[0m\u001b[1;33m\u001b[0m\u001b[0m\n\u001b[0m\u001b[0;32m    367\u001b[0m             )\n\u001b[0;32m    368\u001b[0m             \u001b[0mis_private\u001b[0m \u001b[1;33m=\u001b[0m \u001b[1;32mTrue\u001b[0m\u001b[1;33m\u001b[0m\u001b[1;33m\u001b[0m\u001b[0m\n",
      "\u001b[1;32m~\\Anaconda3\\lib\\site-packages\\selenium\\webdriver\\remote\\webdriver.py\u001b[0m in \u001b[0;36mfind_element_by_xpath\u001b[1;34m(self, xpath)\u001b[0m\n\u001b[0;32m    392\u001b[0m             \u001b[0melement\u001b[0m \u001b[1;33m=\u001b[0m \u001b[0mdriver\u001b[0m\u001b[1;33m.\u001b[0m\u001b[0mfind_element_by_xpath\u001b[0m\u001b[1;33m(\u001b[0m\u001b[1;34m'//div/td[1]'\u001b[0m\u001b[1;33m)\u001b[0m\u001b[1;33m\u001b[0m\u001b[1;33m\u001b[0m\u001b[0m\n\u001b[0;32m    393\u001b[0m         \"\"\"\n\u001b[1;32m--> 394\u001b[1;33m         \u001b[1;32mreturn\u001b[0m \u001b[0mself\u001b[0m\u001b[1;33m.\u001b[0m\u001b[0mfind_element\u001b[0m\u001b[1;33m(\u001b[0m\u001b[0mby\u001b[0m\u001b[1;33m=\u001b[0m\u001b[0mBy\u001b[0m\u001b[1;33m.\u001b[0m\u001b[0mXPATH\u001b[0m\u001b[1;33m,\u001b[0m \u001b[0mvalue\u001b[0m\u001b[1;33m=\u001b[0m\u001b[0mxpath\u001b[0m\u001b[1;33m)\u001b[0m\u001b[1;33m\u001b[0m\u001b[1;33m\u001b[0m\u001b[0m\n\u001b[0m\u001b[0;32m    395\u001b[0m \u001b[1;33m\u001b[0m\u001b[0m\n\u001b[0;32m    396\u001b[0m     \u001b[1;32mdef\u001b[0m \u001b[0mfind_elements_by_xpath\u001b[0m\u001b[1;33m(\u001b[0m\u001b[0mself\u001b[0m\u001b[1;33m,\u001b[0m \u001b[0mxpath\u001b[0m\u001b[1;33m)\u001b[0m\u001b[1;33m:\u001b[0m\u001b[1;33m\u001b[0m\u001b[1;33m\u001b[0m\u001b[0m\n",
      "\u001b[1;32m~\\Anaconda3\\lib\\site-packages\\selenium\\webdriver\\remote\\webdriver.py\u001b[0m in \u001b[0;36mfind_element\u001b[1;34m(self, by, value)\u001b[0m\n\u001b[0;32m    976\u001b[0m         return self.execute(Command.FIND_ELEMENT, {\n\u001b[0;32m    977\u001b[0m             \u001b[1;34m'using'\u001b[0m\u001b[1;33m:\u001b[0m \u001b[0mby\u001b[0m\u001b[1;33m,\u001b[0m\u001b[1;33m\u001b[0m\u001b[1;33m\u001b[0m\u001b[0m\n\u001b[1;32m--> 978\u001b[1;33m             'value': value})['value']\n\u001b[0m\u001b[0;32m    979\u001b[0m \u001b[1;33m\u001b[0m\u001b[0m\n\u001b[0;32m    980\u001b[0m     \u001b[1;32mdef\u001b[0m \u001b[0mfind_elements\u001b[0m\u001b[1;33m(\u001b[0m\u001b[0mself\u001b[0m\u001b[1;33m,\u001b[0m \u001b[0mby\u001b[0m\u001b[1;33m=\u001b[0m\u001b[0mBy\u001b[0m\u001b[1;33m.\u001b[0m\u001b[0mID\u001b[0m\u001b[1;33m,\u001b[0m \u001b[0mvalue\u001b[0m\u001b[1;33m=\u001b[0m\u001b[1;32mNone\u001b[0m\u001b[1;33m)\u001b[0m\u001b[1;33m:\u001b[0m\u001b[1;33m\u001b[0m\u001b[1;33m\u001b[0m\u001b[0m\n",
      "\u001b[1;32m~\\Anaconda3\\lib\\site-packages\\selenium\\webdriver\\remote\\webdriver.py\u001b[0m in \u001b[0;36mexecute\u001b[1;34m(self, driver_command, params)\u001b[0m\n\u001b[0;32m    319\u001b[0m         \u001b[0mresponse\u001b[0m \u001b[1;33m=\u001b[0m \u001b[0mself\u001b[0m\u001b[1;33m.\u001b[0m\u001b[0mcommand_executor\u001b[0m\u001b[1;33m.\u001b[0m\u001b[0mexecute\u001b[0m\u001b[1;33m(\u001b[0m\u001b[0mdriver_command\u001b[0m\u001b[1;33m,\u001b[0m \u001b[0mparams\u001b[0m\u001b[1;33m)\u001b[0m\u001b[1;33m\u001b[0m\u001b[1;33m\u001b[0m\u001b[0m\n\u001b[0;32m    320\u001b[0m         \u001b[1;32mif\u001b[0m \u001b[0mresponse\u001b[0m\u001b[1;33m:\u001b[0m\u001b[1;33m\u001b[0m\u001b[1;33m\u001b[0m\u001b[0m\n\u001b[1;32m--> 321\u001b[1;33m             \u001b[0mself\u001b[0m\u001b[1;33m.\u001b[0m\u001b[0merror_handler\u001b[0m\u001b[1;33m.\u001b[0m\u001b[0mcheck_response\u001b[0m\u001b[1;33m(\u001b[0m\u001b[0mresponse\u001b[0m\u001b[1;33m)\u001b[0m\u001b[1;33m\u001b[0m\u001b[1;33m\u001b[0m\u001b[0m\n\u001b[0m\u001b[0;32m    322\u001b[0m             response['value'] = self._unwrap_value(\n\u001b[0;32m    323\u001b[0m                 response.get('value', None))\n",
      "\u001b[1;32m~\\Anaconda3\\lib\\site-packages\\selenium\\webdriver\\remote\\errorhandler.py\u001b[0m in \u001b[0;36mcheck_response\u001b[1;34m(self, response)\u001b[0m\n\u001b[0;32m    240\u001b[0m                 \u001b[0malert_text\u001b[0m \u001b[1;33m=\u001b[0m \u001b[0mvalue\u001b[0m\u001b[1;33m[\u001b[0m\u001b[1;34m'alert'\u001b[0m\u001b[1;33m]\u001b[0m\u001b[1;33m.\u001b[0m\u001b[0mget\u001b[0m\u001b[1;33m(\u001b[0m\u001b[1;34m'text'\u001b[0m\u001b[1;33m)\u001b[0m\u001b[1;33m\u001b[0m\u001b[1;33m\u001b[0m\u001b[0m\n\u001b[0;32m    241\u001b[0m             \u001b[1;32mraise\u001b[0m \u001b[0mexception_class\u001b[0m\u001b[1;33m(\u001b[0m\u001b[0mmessage\u001b[0m\u001b[1;33m,\u001b[0m \u001b[0mscreen\u001b[0m\u001b[1;33m,\u001b[0m \u001b[0mstacktrace\u001b[0m\u001b[1;33m,\u001b[0m \u001b[0malert_text\u001b[0m\u001b[1;33m)\u001b[0m\u001b[1;33m\u001b[0m\u001b[1;33m\u001b[0m\u001b[0m\n\u001b[1;32m--> 242\u001b[1;33m         \u001b[1;32mraise\u001b[0m \u001b[0mexception_class\u001b[0m\u001b[1;33m(\u001b[0m\u001b[0mmessage\u001b[0m\u001b[1;33m,\u001b[0m \u001b[0mscreen\u001b[0m\u001b[1;33m,\u001b[0m \u001b[0mstacktrace\u001b[0m\u001b[1;33m)\u001b[0m\u001b[1;33m\u001b[0m\u001b[1;33m\u001b[0m\u001b[0m\n\u001b[0m\u001b[0;32m    243\u001b[0m \u001b[1;33m\u001b[0m\u001b[0m\n\u001b[0;32m    244\u001b[0m     \u001b[1;32mdef\u001b[0m \u001b[0m_value_or_default\u001b[0m\u001b[1;33m(\u001b[0m\u001b[0mself\u001b[0m\u001b[1;33m,\u001b[0m \u001b[0mobj\u001b[0m\u001b[1;33m,\u001b[0m \u001b[0mkey\u001b[0m\u001b[1;33m,\u001b[0m \u001b[0mdefault\u001b[0m\u001b[1;33m)\u001b[0m\u001b[1;33m:\u001b[0m\u001b[1;33m\u001b[0m\u001b[1;33m\u001b[0m\u001b[0m\n",
      "\u001b[1;31mWebDriverException\u001b[0m: Message: Failed to decode response from marionette\n"
     ]
    }
   ],
   "source": [
    "session=InstaPy(username=\"saiyam_3\", password=\"Siddh2007\").login()\n",
    "session.login()\n",
    "session.like_by_tags([\"bmw\", \"mercedes\"], amount=5)"
   ]
  },
  {
   "cell_type": "code",
   "execution_count": null,
   "metadata": {},
   "outputs": [],
   "source": []
  }
 ],
 "metadata": {
  "kernelspec": {
   "display_name": "Python 3",
   "language": "python",
   "name": "python3"
  },
  "language_info": {
   "codemirror_mode": {
    "name": "ipython",
    "version": 3
   },
   "file_extension": ".py",
   "mimetype": "text/x-python",
   "name": "python",
   "nbconvert_exporter": "python",
   "pygments_lexer": "ipython3",
   "version": "3.7.6"
  }
 },
 "nbformat": 4,
 "nbformat_minor": 4
}
